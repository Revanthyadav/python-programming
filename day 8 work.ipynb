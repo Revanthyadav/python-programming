{
 "cells": [
  {
   "cell_type": "code",
   "execution_count": 7,
   "metadata": {},
   "outputs": [
    {
     "name": "stdout",
     "output_type": "stream",
     "text": [
      "[1, 2, 3]\n",
      "2\n",
      "1\n",
      "[1, 2, 3]\n",
      "[2, 3]\n",
      "<class 'int'>\n"
     ]
    }
   ],
   "source": [
    "li=[1,2,3]\n",
    "print(li)\n",
    "print(li[1])\n",
    "print(li[0])\n",
    "print(li[0:3])\n",
    "print(li[1:3])\n",
    "print(type(li[1]))"
   ]
  },
  {
   "cell_type": "code",
   "execution_count": 8,
   "metadata": {},
   "outputs": [
    {
     "data": {
      "text/plain": [
       "18"
      ]
     },
     "execution_count": 8,
     "metadata": {},
     "output_type": "execute_result"
    }
   ],
   "source": [
    "li=[1,19,6,2,8,18,3]\n",
    "def seclar(li):\n",
    "    li.sort()\n",
    "    return li[-2]\n",
    "li=[1,19,6,2,8,18,3]\n",
    "seclar(li)"
   ]
  },
  {
   "cell_type": "code",
   "execution_count": null,
   "metadata": {},
   "outputs": [],
   "source": [
    "def linear1(li,x):\n",
    "    for i in range(len(li)):\n",
    "        if li[i]==x:\n",
    "    \n"
   ]
  },
  {
   "cell_type": "code",
   "execution_count": 10,
   "metadata": {},
   "outputs": [
    {
     "name": "stdout",
     "output_type": "stream",
     "text": [
      "2 4 6 9 "
     ]
    }
   ],
   "source": [
    "def linear(li,x):\n",
    "    for i in range(len(li)):\n",
    "        if li[i]==x:\n",
    "            print(i,end=\" \")\n",
    "    return\n",
    "li=[1,2,5,4,5,6,5,4,7,5]\n",
    "linear(li,5)"
   ]
  },
  {
   "cell_type": "code",
   "execution_count": 21,
   "metadata": {},
   "outputs": [
    {
     "name": "stdout",
     "output_type": "stream",
     "text": [
      "  !!  !!!!  !!!!!!   !!!!!!!!! "
     ]
    }
   ],
   "source": [
    "def linearp(li,x):\n",
    "    for i in range(len(li)):\n",
    "        if li[i]==x:\n",
    "            for a in range(i):\n",
    "                print('!',end=\"\")\n",
    "        print(end=\" \")\n",
    "            \n",
    "    return\n",
    "li=[1,2,5,4,5,6,5,4,7,5]\n",
    "linearp(li,5)"
   ]
  },
  {
   "cell_type": "code",
   "execution_count": 27,
   "metadata": {},
   "outputs": [
    {
     "name": "stdout",
     "output_type": "stream",
     "text": [
      "45 15 60\n"
     ]
    }
   ],
   "source": [
    "li=[12,2,45,9,8,15,36]\n",
    "sum=0\n",
    "for i in range(len(li)):\n",
    "    if (li[i]%3)==0 and (li[i]%5)==0:\n",
    "        print(li[i],end=\" \")\n",
    "        sum=sum+li[i]\n",
    "        \n",
    "print(sum)"
   ]
  },
  {
   "cell_type": "code",
   "execution_count": 36,
   "metadata": {},
   "outputs": [
    {
     "name": "stdout",
     "output_type": "stream",
     "text": [
      "1 3 8 15 5\n"
     ]
    }
   ],
   "source": [
    "li=[1,2,3,4,5]\n",
    "li2=[6,5,2,8,2]\n",
    "print(li[0],end=\" \")\n",
    "for i in range(2,len(li)):\n",
    "    print(li[i]*li[i-2],end=\" \")\n",
    "print(len(li))"
   ]
  },
  {
   "cell_type": "code",
   "execution_count": 38,
   "metadata": {},
   "outputs": [
    {
     "name": "stdout",
     "output_type": "stream",
     "text": [
      "6 12 40 4 5\n"
     ]
    }
   ],
   "source": [
    "li2=[6,5,2,8,2]\n",
    "print(li2[0],end=\" \")\n",
    "for i in range(2,len(li2)):\n",
    "    print(li2[i]*li2[i-2],end=\" \")\n",
    "print(len(li2))"
   ]
  },
  {
   "cell_type": "code",
   "execution_count": null,
   "metadata": {},
   "outputs": [],
   "source": []
  }
 ],
 "metadata": {
  "kernelspec": {
   "display_name": "Python 3",
   "language": "python",
   "name": "python3"
  },
  "language_info": {
   "codemirror_mode": {
    "name": "ipython",
    "version": 3
   },
   "file_extension": ".py",
   "mimetype": "text/x-python",
   "name": "python",
   "nbconvert_exporter": "python",
   "pygments_lexer": "ipython3",
   "version": "3.7.3"
  }
 },
 "nbformat": 4,
 "nbformat_minor": 2
}
